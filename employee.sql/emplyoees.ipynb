{
 "cells": [
  {
   "cell_type": "code",
   "execution_count": 2,
   "id": "bd0eea23",
   "metadata": {},
   "outputs": [],
   "source": [
    "# Pandas and Matplotlib\n",
    "import pandas as pd\n",
    "import matplotlib.pyplot as plt\n",
    "\n",
    "# SQL Alchemy\n",
    "from sqlalchemy import create_engine\n",
    "#from config import password"
   ]
  },
  {
   "cell_type": "code",
   "execution_count": null,
   "id": "59bccf67",
   "metadata": {},
   "outputs": [],
   "source": [
    "```sql\n",
    "   from sqlalchemy import create_engine\n",
    "   engine = create_engine('postgresql://localhost:5432/<your_db_name>')\n",
    "   connection = engine.connect()"
   ]
  },
  {
   "cell_type": "code",
   "execution_count": null,
   "id": "5491c263",
   "metadata": {},
   "outputs": [],
   "source": [
    "# Query All Records in the the Table salaries\n",
    "salaries = pd.read_sql(\"SELECT * FROM salaries\", conn)"
   ]
  },
  {
   "cell_type": "code",
   "execution_count": null,
   "id": "5278d8a5",
   "metadata": {},
   "outputs": [],
   "source": [
    "# Checking data \n",
    " salaries.head()\n",
    "# salaries.count()"
   ]
  },
  {
   "cell_type": "code",
   "execution_count": null,
   "id": "4aea2503",
   "metadata": {},
   "outputs": [],
   "source": [
    "x = salaries['salary']\n"
   ]
  },
  {
   "cell_type": "code",
   "execution_count": null,
   "id": "8fc4fc3c",
   "metadata": {},
   "outputs": [],
   "source": [
    "#Salaries histogram \n",
    "\n",
    "plt.hist(x, alpha=0.5, histtype='bar', ec='black')\n",
    "\n",
    "# Adding details to the chart \n",
    "plt.title(\"'Employees Salaries'\")\n",
    "plt.xlabel(\"Salary\")\n",
    "plt.ylabel(\"Employees\")\n",
    "\n",
    "plt.show()\n"
   ]
  }
 ],
 "metadata": {
  "kernelspec": {
   "display_name": "Python 3",
   "language": "python",
   "name": "python3"
  },
  "language_info": {
   "codemirror_mode": {
    "name": "ipython",
    "version": 3
   },
   "file_extension": ".py",
   "mimetype": "text/x-python",
   "name": "python",
   "nbconvert_exporter": "python",
   "pygments_lexer": "ipython3",
   "version": "3.6.13"
  }
 },
 "nbformat": 4,
 "nbformat_minor": 5
}
